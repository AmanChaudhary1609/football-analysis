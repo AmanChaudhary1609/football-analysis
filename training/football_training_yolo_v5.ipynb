{
 "cells": [
  {
   "cell_type": "code",
   "execution_count": null,
   "metadata": {},
   "outputs": [],
   "source": [
    "!pip3 install ultralytics\n",
    "!pip3 install roboflow"
   ]
  },
  {
   "cell_type": "code",
   "execution_count": 8,
   "metadata": {},
   "outputs": [
    {
     "name": "stdout",
     "output_type": "stream",
     "text": [
      "Collecting autodistill\n",
      "  Downloading autodistill-0.1.29-py3-none-any.whl.metadata (32 kB)\n",
      "Requirement already satisfied: opencv-python>=4.6.0 in c:\\users\\amn23\\appdata\\local\\programs\\python\\python313\\lib\\site-packages (from autodistill) (4.11.0.86)\n",
      "Collecting supervision (from autodistill)\n",
      "  Downloading supervision-0.25.1-py3-none-any.whl.metadata (14 kB)\n",
      "Requirement already satisfied: tqdm in c:\\users\\amn23\\appdata\\local\\programs\\python\\python313\\lib\\site-packages (from autodistill) (4.67.1)\n",
      "Requirement already satisfied: Pillow>=7.1.2 in c:\\users\\amn23\\appdata\\local\\programs\\python\\python313\\lib\\site-packages (from autodistill) (11.3.0)\n",
      "Requirement already satisfied: PyYAML>=5.3.1 in c:\\users\\amn23\\appdata\\local\\programs\\python\\python313\\lib\\site-packages (from autodistill) (6.0.2)\n",
      "Collecting click (from autodistill)\n",
      "  Downloading click-8.2.1-py3-none-any.whl.metadata (2.5 kB)\n",
      "Requirement already satisfied: numpy>=1.21.2 in c:\\users\\amn23\\appdata\\local\\programs\\python\\python313\\lib\\site-packages (from opencv-python>=4.6.0->autodistill) (2.3.1)\n",
      "Requirement already satisfied: colorama in c:\\users\\amn23\\appdata\\local\\programs\\python\\python313\\lib\\site-packages (from click->autodistill) (0.4.6)\n",
      "Requirement already satisfied: contourpy>=1.3.0 in c:\\users\\amn23\\appdata\\local\\programs\\python\\python313\\lib\\site-packages (from supervision->autodistill) (1.3.2)\n",
      "Collecting defusedxml<0.8.0,>=0.7.1 (from supervision->autodistill)\n",
      "  Downloading defusedxml-0.7.1-py2.py3-none-any.whl.metadata (32 kB)\n",
      "Requirement already satisfied: matplotlib>=3.6.0 in c:\\users\\amn23\\appdata\\local\\programs\\python\\python313\\lib\\site-packages (from supervision->autodistill) (3.10.3)\n",
      "Requirement already satisfied: requests>=2.26.0 in c:\\users\\amn23\\appdata\\local\\programs\\python\\python313\\lib\\site-packages (from supervision->autodistill) (2.32.4)\n",
      "Requirement already satisfied: scipy<2.0.0,>=1.10.0 in c:\\users\\amn23\\appdata\\local\\programs\\python\\python313\\lib\\site-packages (from supervision->autodistill) (1.16.0)\n",
      "Requirement already satisfied: cycler>=0.10 in c:\\users\\amn23\\appdata\\local\\programs\\python\\python313\\lib\\site-packages (from matplotlib>=3.6.0->supervision->autodistill) (0.12.1)\n",
      "Requirement already satisfied: fonttools>=4.22.0 in c:\\users\\amn23\\appdata\\local\\programs\\python\\python313\\lib\\site-packages (from matplotlib>=3.6.0->supervision->autodistill) (4.58.4)\n",
      "Requirement already satisfied: kiwisolver>=1.3.1 in c:\\users\\amn23\\appdata\\local\\programs\\python\\python313\\lib\\site-packages (from matplotlib>=3.6.0->supervision->autodistill) (1.4.8)\n",
      "Requirement already satisfied: packaging>=20.0 in c:\\users\\amn23\\appdata\\local\\programs\\python\\python313\\lib\\site-packages (from matplotlib>=3.6.0->supervision->autodistill) (25.0)\n",
      "Requirement already satisfied: pyparsing>=2.3.1 in c:\\users\\amn23\\appdata\\local\\programs\\python\\python313\\lib\\site-packages (from matplotlib>=3.6.0->supervision->autodistill) (3.2.3)\n",
      "Requirement already satisfied: python-dateutil>=2.7 in c:\\users\\amn23\\appdata\\local\\programs\\python\\python313\\lib\\site-packages (from matplotlib>=3.6.0->supervision->autodistill) (2.9.0.post0)\n",
      "Requirement already satisfied: six>=1.5 in c:\\users\\amn23\\appdata\\local\\programs\\python\\python313\\lib\\site-packages (from python-dateutil>=2.7->matplotlib>=3.6.0->supervision->autodistill) (1.17.0)\n",
      "Requirement already satisfied: charset_normalizer<4,>=2 in c:\\users\\amn23\\appdata\\local\\programs\\python\\python313\\lib\\site-packages (from requests>=2.26.0->supervision->autodistill) (3.4.2)\n",
      "Requirement already satisfied: idna<4,>=2.5 in c:\\users\\amn23\\appdata\\local\\programs\\python\\python313\\lib\\site-packages (from requests>=2.26.0->supervision->autodistill) (3.10)\n",
      "Requirement already satisfied: urllib3<3,>=1.21.1 in c:\\users\\amn23\\appdata\\local\\programs\\python\\python313\\lib\\site-packages (from requests>=2.26.0->supervision->autodistill) (2.5.0)\n",
      "Requirement already satisfied: certifi>=2017.4.17 in c:\\users\\amn23\\appdata\\local\\programs\\python\\python313\\lib\\site-packages (from requests>=2.26.0->supervision->autodistill) (2025.6.15)\n",
      "Downloading autodistill-0.1.29-py3-none-any.whl (32 kB)\n",
      "Downloading click-8.2.1-py3-none-any.whl (102 kB)\n",
      "Downloading supervision-0.25.1-py3-none-any.whl (181 kB)\n",
      "Downloading defusedxml-0.7.1-py2.py3-none-any.whl (25 kB)\n",
      "Installing collected packages: defusedxml, click, supervision, autodistill\n",
      "\n",
      "   ---------- ----------------------------- 1/4 [click]\n",
      "   ---------- ----------------------------- 1/4 [click]\n",
      "   -------------------- ------------------- 2/4 [supervision]\n",
      "   -------------------- ------------------- 2/4 [supervision]\n",
      "   -------------------- ------------------- 2/4 [supervision]\n",
      "   -------------------- ------------------- 2/4 [supervision]\n",
      "   -------------------- ------------------- 2/4 [supervision]\n",
      "   -------------------- ------------------- 2/4 [supervision]\n",
      "   ------------------------------ --------- 3/4 [autodistill]\n",
      "   ------------------------------ --------- 3/4 [autodistill]\n",
      "   ---------------------------------------- 4/4 [autodistill]\n",
      "\n",
      "Successfully installed autodistill-0.1.29 click-8.2.1 defusedxml-0.7.1 supervision-0.25.1\n",
      "Note: you may need to restart the kernel to use updated packages.\n"
     ]
    }
   ],
   "source": [
    "pip install autodistill\n"
   ]
  },
  {
   "cell_type": "code",
   "execution_count": 10,
   "metadata": {},
   "outputs": [],
   "source": [
    "import autodistill"
   ]
  },
  {
   "cell_type": "code",
   "execution_count": 2,
   "metadata": {},
   "outputs": [
    {
     "name": "stdout",
     "output_type": "stream",
     "text": [
      "Package            VersionNote: you may need to restart the kernel to use updated packages.\n"
     ]
    },
    {
     "name": "stderr",
     "output_type": "stream",
     "text": [
      "WARNING: Ignoring invalid distribution -illow (c:\\users\\amn23\\appdata\\local\\programs\\python\\python310\\lib\\site-packages)\n",
      "WARNING: Ignoring invalid distribution -illow (c:\\users\\amn23\\appdata\\local\\programs\\python\\python310\\lib\\site-packages)\n",
      "WARNING: Ignoring invalid distribution -illow (c:\\users\\amn23\\appdata\\local\\programs\\python\\python310\\lib\\site-packages)\n",
      "WARNING: Ignoring invalid distribution -illow (c:\\users\\amn23\\appdata\\local\\programs\\python\\python310\\lib\\site-packages)\n",
      "WARNING: You are using pip version 21.2.3; however, version 25.1.1 is available.\n",
      "You should consider upgrading via the 'c:\\Users\\amn23\\AppData\\Local\\Programs\\Python\\Python310\\python.exe -m pip install --upgrade pip' command.\n"
     ]
    },
    {
     "name": "stdout",
     "output_type": "stream",
     "text": [
      "\n",
      "------------------ ------------\n",
      "asttokens          3.0.0\n",
      "autodistill        0.1.29\n",
      "certifi            2025.6.15\n",
      "charset-normalizer 3.4.2\n",
      "click              8.2.1\n",
      "colorama           0.4.6\n",
      "comm               0.2.2\n",
      "contourpy          1.3.2\n",
      "cycler             0.12.1\n",
      "debugpy            1.8.14\n",
      "decorator          5.2.1\n",
      "defusedxml         0.7.1\n",
      "exceptiongroup     1.3.0\n",
      "executing          2.2.0\n",
      "filelock           3.13.1\n",
      "fonttools          4.58.4\n",
      "fsspec             2024.6.1\n",
      "idna               3.7\n",
      "ipykernel          6.29.5\n",
      "ipython            8.37.0\n",
      "jedi               0.19.2\n",
      "Jinja2             3.1.4\n",
      "jupyter_client     8.6.3\n",
      "jupyter_core       5.8.1\n",
      "kiwisolver         1.4.8\n",
      "MarkupSafe         2.1.5\n",
      "matplotlib         3.10.3\n",
      "matplotlib-inline  0.1.7\n",
      "mpmath             1.3.0\n",
      "nest-asyncio       1.6.0\n",
      "networkx           3.3\n",
      "numpy              1.26.4\n",
      "opencv-python      4.11.0.86\n",
      "packaging          25.0\n",
      "pandas             2.3.0\n",
      "parso              0.8.4\n",
      "pillow             11.3.0\n",
      "pillow-avif-plugin 1.5.2\n",
      "pillow_heif        1.0.0\n",
      "pip                21.2.3\n",
      "platformdirs       4.3.8\n",
      "prompt_toolkit     3.0.51\n",
      "psutil             7.0.0\n",
      "pure_eval          0.2.3\n",
      "py-cpuinfo         9.0.0\n",
      "Pygments           2.19.2\n",
      "pyparsing          3.2.3\n",
      "python-dateutil    2.9.0.post0\n",
      "python-dotenv      1.1.1\n",
      "pytz               2025.2\n",
      "pywin32            310\n",
      "PyYAML             6.0.2\n",
      "pyzmq              27.0.0\n",
      "requests           2.32.4\n",
      "requests-toolbelt  1.0.0\n",
      "scipy              1.15.3\n",
      "setuptools         57.4.0\n",
      "six                1.17.0\n",
      "stack-data         0.6.3\n",
      "supervision        0.25.1\n",
      "sympy              1.13.3\n",
      "torch              2.2.2+cu118\n",
      "torchaudio         2.2.2+cu118\n",
      "torchvision        0.17.2+cu118\n",
      "tornado            6.5.1\n",
      "tqdm               4.67.1\n",
      "traitlets          5.14.3\n",
      "typing_extensions  4.12.2\n",
      "tzdata             2025.2\n",
      "ultralytics        8.3.161\n",
      "ultralytics-thop   2.0.14\n",
      "urllib3            2.5.0\n",
      "wcwidth            0.2.13\n"
     ]
    }
   ],
   "source": [
    "pip list\n"
   ]
  },
  {
   "cell_type": "markdown",
   "metadata": {},
   "source": [
    "# Get Dataset"
   ]
  },
  {
   "cell_type": "code",
   "execution_count": 3,
   "metadata": {},
   "outputs": [
    {
     "name": "stdout",
     "output_type": "stream",
     "text": [
      "loading Roboflow workspace...\n",
      "loading Roboflow project...\n"
     ]
    },
    {
     "name": "stderr",
     "output_type": "stream",
     "text": [
      "Downloading Dataset Version Zip in football-players-detection-1 to yolov5pytorch:: 100%|██████████| 148663/148663 [02:37<00:00, 941.53it/s] "
     ]
    },
    {
     "name": "stdout",
     "output_type": "stream",
     "text": [
      "\n"
     ]
    },
    {
     "name": "stderr",
     "output_type": "stream",
     "text": [
      "\n",
      "Extracting Dataset Version Zip to football-players-detection-1 in yolov5pytorch:: 100%|██████████| 1338/1338 [00:02<00:00, 659.83it/s]\n"
     ]
    }
   ],
   "source": [
    "from roboflow import Roboflow\n",
    "rf = Roboflow(api_key=\"X6FrsEShNnDelRw4guy7\")\n",
    "project = rf.workspace(\"roboflow-jvuqo\").project(\"football-players-detection-3zvbc\")\n",
    "version = project.version(1)\n",
    "dataset = version.download(\"yolov5\")\n",
    "                "
   ]
  },
  {
   "cell_type": "code",
   "execution_count": 2,
   "metadata": {},
   "outputs": [
    {
     "data": {
      "text/plain": [
       "'/mnt/d/AI_youtube_channel/videos/015.football_project/football_analysis/training/football-players-detection-1'"
      ]
     },
     "execution_count": 2,
     "metadata": {},
     "output_type": "execute_result"
    }
   ],
   "source": [
    "dataset.location"
   ]
  },
  {
   "cell_type": "code",
   "execution_count": 3,
   "metadata": {},
   "outputs": [
    {
     "data": {
      "text/plain": [
       "'football-players-detection-1/football-players-detection-1/valid'"
      ]
     },
     "execution_count": 3,
     "metadata": {},
     "output_type": "execute_result"
    }
   ],
   "source": [
    "import shutil\n",
    "\n",
    "shutil.move('football-players-detection-1/train',\n",
    "            'football-players-detection-1/football-players-detection-1/train'\n",
    "            )\n",
    "\n",
    "shutil.move('football-players-detection-1/test',\n",
    "            'football-players-detection-1/football-players-detection-1/test'\n",
    "            )\n",
    "\n",
    "shutil.move('football-players-detection-1/valid',\n",
    "            'football-players-detection-1/football-players-detection-1/valid'\n",
    "            )"
   ]
  },
  {
   "cell_type": "code",
   "execution_count": null,
   "metadata": {},
   "outputs": [],
   "source": []
  },
  {
   "cell_type": "markdown",
   "metadata": {},
   "source": [
    "# Training"
   ]
  },
  {
   "cell_type": "code",
   "execution_count": null,
   "metadata": {},
   "outputs": [],
   "source": [
    "!yolo task=detect mode=train model=yolov5x.pt data={dataset.location}/data.yaml epochs=100 imgsz=640"
   ]
  },
  {
   "cell_type": "code",
   "execution_count": null,
   "metadata": {},
   "outputs": [],
   "source": []
  },
  {
   "cell_type": "code",
   "execution_count": null,
   "metadata": {},
   "outputs": [],
   "source": []
  }
 ],
 "metadata": {
  "kernelspec": {
   "display_name": "Python 3",
   "language": "python",
   "name": "python3"
  },
  "language_info": {
   "codemirror_mode": {
    "name": "ipython",
    "version": 3
   },
   "file_extension": ".py",
   "mimetype": "text/x-python",
   "name": "python",
   "nbconvert_exporter": "python",
   "pygments_lexer": "ipython3",
   "version": "3.10.0"
  }
 },
 "nbformat": 4,
 "nbformat_minor": 2
}
